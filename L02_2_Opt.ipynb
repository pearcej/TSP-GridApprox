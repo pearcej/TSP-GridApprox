{
  "nbformat": 4,
  "nbformat_minor": 0,
  "metadata": {
    "colab": {
      "name": "L02: 2-Opt.ipynb",
      "provenance": [],
      "collapsed_sections": [],
      "include_colab_link": true
    },
    "kernelspec": {
      "name": "python3",
      "display_name": "Python 3"
    }
  },
  "cells": [
    {
      "cell_type": "markdown",
      "metadata": {
        "id": "view-in-github",
        "colab_type": "text"
      },
      "source": [
        "<a href=\"https://colab.research.google.com/github/pearcej/TSP-2-Opt/blob/main/L02_2_Opt.ipynb\" target=\"_parent\"><img src=\"https://colab.research.google.com/assets/colab-badge.svg\" alt=\"Open In Colab\"/></a>"
      ]
    },
    {
      "cell_type": "markdown",
      "metadata": {
        "id": "Ws6rXa1xv_gv"
      },
      "source": [
        "# [L02: Implementing 2-Opt TSP](https://docs.google.com/document/d/1JA_CWBXPN6whvJAemnJLvtYJ3Pbk84dTUolWO_QqosA/edit?usp=sharing)\n",
        "Written by Dr. Jan Pearce, Berea College\n",
        "\n",
        "Complete the code by meeting all linked requirements and fixing all FIXMEs\n",
        "\n",
        "## Your Name: FIXME"
      ]
    },
    {
      "cell_type": "markdown",
      "metadata": {
        "id": "PvEpt0HPKq9X"
      },
      "source": [
        "**SUMMARY**: A brief summary description of the design and implementation, including how much your initial design plan evolved, the final result you achieved and the amount of time you spent as a programmer or programmers in accomplishing these results. This should be no more than two paragraphs.\n",
        "\n",
        "FIXME\n",
        "\n",
        "**PERSONNEL**: A description of who you worked with and on what sections.  It is expected that all collaboration is done as pair programming together. Also, note these collaborations in the code section itself.\n",
        "\n",
        "FIXME\n",
        "\n",
        "**CHALLENGES**: Descriptions of the largest challenges you overcame and what made them challenging.\n",
        "\n",
        "FIXME\n",
        "\n",
        "**INNOVATIONS**: Any innovations that were not specifically required by the assignment. These are not required, but should be highlighted if included.\n",
        "\n",
        "FIXME\n",
        "\n",
        "**TESTING**: Describe how you tested this work.\n",
        "\n",
        "FIXME\n",
        "\n",
        "**ERRORS**: A list in bulleted form of all known errors and deficiencies.\n",
        "\n",
        "FIXME\n",
        "\n",
        "**COMMENTS**: A paragraph or so of your own comments on and reactions to the Lab. \n",
        "\n",
        "FIXME"
      ]
    },
    {
      "cell_type": "markdown",
      "metadata": {
        "id": "lRXe-Atyv30H"
      },
      "source": [
        "## Import Libraries"
      ]
    },
    {
      "cell_type": "code",
      "metadata": {
        "id": "b6koAGG2mhix"
      },
      "source": [
        "import networkx as nx\n",
        "import matplotlib.pyplot as plt\n",
        "import math\n",
        "from urllib.request import urlopen"
      ],
      "execution_count": null,
      "outputs": []
    },
    {
      "cell_type": "markdown",
      "metadata": {
        "id": "y-JqngNLmhVG"
      },
      "source": [
        "### Read data"
      ]
    },
    {
      "cell_type": "code",
      "metadata": {
        "id": "GzeEKA-nwLsJ",
        "outputId": "30111f62-f742-4193-96e7-70af0531de0a",
        "colab": {
          "base_uri": "https://localhost:8080/",
          "height": 867
        }
      },
      "source": [
        "tspdata = urlopen(\"http://cs.berea.edu/courses/csc445/data/tsp-48.txt\").read().decode('ASCII')\n",
        "print(tspdata)"
      ],
      "execution_count": null,
      "outputs": [
        {
          "output_type": "stream",
          "text": [
            "48\n",
            "6734 1453\n",
            "2233 10\n",
            "5530 1424\n",
            "401 841\n",
            "3082 1644\n",
            "7608 4458\n",
            "7573 3716\n",
            "7265 1268\n",
            "6898 1885\n",
            "1112 2049\n",
            "5468 2606\n",
            "5989 2873\n",
            "4706 2674\n",
            "4612 2035\n",
            "6347 2683\n",
            "6107 669\n",
            "7611 5184\n",
            "7462 3590\n",
            "7732 4723\n",
            "5900 3561\n",
            "4483 3369\n",
            "6101 1110\n",
            "5199 2182\n",
            "1633 2809\n",
            "4307 2322\n",
            "675 1006\n",
            "7555 4819\n",
            "7541 3981\n",
            "3177 756\n",
            "7352 4506\n",
            "7545 2801\n",
            "3245 3305\n",
            "6426 3173\n",
            "4608 1198\n",
            "23 2216\n",
            "7248 3779\n",
            "7762 4595\n",
            "7392 2244\n",
            "3484 2829\n",
            "6271 2135\n",
            "4985 140\n",
            "1916 1569\n",
            "7280 4899\n",
            "7509 3239\n",
            "10 2676\n",
            "6807 2993\n",
            "5185 3258\n",
            "3023 1942\n",
            "\n"
          ],
          "name": "stdout"
        }
      ]
    },
    {
      "cell_type": "markdown",
      "metadata": {
        "id": "qGcB5022KlHL"
      },
      "source": [
        "## TSP Class"
      ]
    },
    {
      "cell_type": "code",
      "metadata": {
        "id": "KIzVOICElISX",
        "outputId": "08dc2ea0-3ff4-43bd-9d41-a95e3ba0db32",
        "colab": {
          "base_uri": "https://localhost:8080/",
          "height": 319
        }
      },
      "source": [
        "\"\"\"\n",
        "\n",
        "Given certain input, it uses the 2-opt algorithm to plot a graph and output a file of the solution path\n",
        "\"\"\"\n",
        "\n",
        "class TSP:\n",
        "\n",
        "    def __init__(self):\n",
        "        \"\"\" TSP class containing data needed for networkx graph creation, file reading and file writing. \n",
        "            Creates a graph for the traveling salesperon problem using the 2-opt algorithm\n",
        "        \"\"\"\n",
        "\n",
        "        self.dimension = None\n",
        "        self.nodeData = []\n",
        "        self.graph = nx.DiGraph()\n",
        "        self.coords = {}\n",
        "        self.places = []\n",
        "        self.route = [] \n",
        "\n",
        "    def extractData(self, inputFile=\"\"):\n",
        "        \"\"\"\n",
        "        Iterate through the input file and append each coordinate into the node list.\n",
        "        Keyword Arguments:\n",
        "            inputFile {str} -- a string for the file name (default: {\"\"})\n",
        "        \"\"\"\n",
        "        pass\n",
        "        #FIXME complete this function\n",
        "\n",
        "    def setUpCoords(self):\n",
        "        \"\"\" Puts the coordinates for each node into a dictionary as a tuple with the node as the key \"\"\"\n",
        "        pass\n",
        "        #FIXME complete this function\n",
        "\n",
        "    def calculateDistance(self, a, b): \n",
        "        \"\"\"calculates & returns the distance between points a and b\n",
        "        Arguments:\n",
        "            a {[tuple]} -- tuple of numbers for the x and y coordinate of a node\n",
        "            b {[tuple]} -- tuple of numbers for the x and y coordinate of a node\n",
        "        Returns:\n",
        "            [float] -- the distance between the two points using the distance formula\n",
        "        \"\"\"\n",
        "        pass\n",
        "        #FIXME complete this function\n",
        "\n",
        "    def getRoute(self, current, visits=[], nVisits=[], needList=True): \n",
        "        \"\"\"Makes a list of the nodes to be visited, in order, according to the given algorithm for the TSP\n",
        "        Arguments:\n",
        "            current {int} -- the node to start at, not a list index\n",
        "        Keyword Arguments:\n",
        "            visits {list} -- list of places already visited (default: {[]})\n",
        "            nVisits {list} -- list of places not visited (default: {[]})\n",
        "            needList {bool} -- boolean deciding if the list of places not visited needs to be filled (default: {True})\n",
        "        \"\"\"\n",
        "        pass\n",
        "        #FIXME complete this function\n",
        "\n",
        "    def beGreedy(self, start): \n",
        "        \"\"\" puts together the greedy algorithm. Gets the route order and adds the starting place to the end of the route\n",
        "        Arguments:\n",
        "            start -- the starting node for the greedy algorithm\n",
        "\n",
        "            Completed in L01\n",
        "        \"\"\"\n",
        "        pass\n",
        "        #FIXME complete this function\n",
        "\n",
        "    def twoOpt(self, start): \n",
        "        \"\"\" puts together the 2-opt algorithm. Gets the route order and adds the starting place to the end of the route\n",
        "        Arguments:\n",
        "            start -- the starting node for the two-Opt algorithm\n",
        "\n",
        "            to be completed in L02\n",
        "        \"\"\"\n",
        "        pass\n",
        "\n",
        "        #FIXME complete this function\n",
        "\n",
        "    \n",
        "    def listPlaces(self): \n",
        "        \"\"\"makes a list of all the nodes/places from the dictionary\n",
        "        Returns:\n",
        "            [list] -- list of all the nodes/places\n",
        "        \"\"\"\n",
        "        pass\n",
        "        #FIXME complete this function\n",
        "\n",
        "    def cleanUpList(self, visited, notVisited): \n",
        "        \"\"\"removes items in visited from notVisited\n",
        "        Arguments:\n",
        "            visited {list}\n",
        "            notVisited {list}\n",
        "        Returns:\n",
        "            [list] -- a list of notVisited - visited\n",
        "        \"\"\"\n",
        "\n",
        "        for item in visited:\n",
        "            if item in notVisited:\n",
        "                notVisited.remove(item)\n",
        "        return notVisited\n",
        "\n",
        "    def addNodes(self): \n",
        "        \"\"\" adds nodes to the networkx graph\n",
        "        \"\"\"\n",
        "\n",
        "        for everything in self.nodeData:\n",
        "            node = everything[0]\n",
        "            self.graph.add_node(node, pos=self.coords[node])\n",
        "\n",
        "    def addEdges(self): \n",
        "        \"\"\"Adds graphs to the networkx graph\n",
        "        \"\"\"\n",
        "\n",
        "        x = 0\n",
        "        while x < len(self.route)-1:\n",
        "            self.graph.add_edge(self.route[x], self.route[x+1],\n",
        "                                weight=self.calculateDistance(self.coords[self.route[x]], self.coords[self.route[x+1]]))\n",
        "            x += 1\n",
        "\n",
        "    def showGraph(self):\n",
        "        \"\"\"Uses the imported libraries to display the graph\n",
        "        \"\"\"\n",
        "        # get labels and coordinates for the graph\n",
        "        coords = nx.get_node_attributes(self.graph, 'pos')\n",
        "        labels = nx.get_edge_attributes(self.graph, 'weight')\n",
        "        # draw nodes in their coordinates\n",
        "        nx.draw(self.graph, coords)\n",
        "        nx.draw_networkx_labels(self.graph, coords)\n",
        "        # draw edges with their weights\n",
        "        nx.draw_networkx_edge_labels(self.graph, coords, edge_labels=labels)\n",
        "        plt.show()\n",
        "\n",
        "\n",
        "\n",
        "\n",
        "def main():\n",
        "    tsp = TSP()\n",
        "\n",
        "    tsp.extractData(tspdata)\n",
        "    tsp.setUpCoords()\n",
        "    tsp.addNodes()\n",
        "    tsp.beGreedy(1) # if you have this working else use the original file\n",
        "    tsp.twoOpt(1)\n",
        "    tsp.addEdges()\n",
        "    tsp.showGraph()\n",
        "\n",
        "\n",
        "main()"
      ],
      "execution_count": null,
      "outputs": [
        {
          "output_type": "display_data",
          "data": {
            "image/png": "[encoded data removed]",
            "text/plain": [
              "<Figure size 432x288 with 1 Axes>"
            ]
          },
          "metadata": {
            "tags": []
          }
        }
      ]
    },
    {
      "cell_type": "markdown",
      "metadata": {
        "id": "_ga-NF0L7ZBf"
      },
      "source": [
        "## Integrity statement\n",
        "Please briefly describe all help you received and all help you gave to others in completing this assignment. Be sure to say that you got no help if you got none."
      ]
    },
    {
      "cell_type": "markdown",
      "metadata": {
        "id": "-6HarsXemeKP"
      },
      "source": [
        ""
      ]
    }
  ]
}